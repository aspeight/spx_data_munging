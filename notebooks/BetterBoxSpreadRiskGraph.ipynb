{
 "cells": [
  {
   "cell_type": "code",
   "execution_count": 1,
   "id": "95f696e0",
   "metadata": {},
   "outputs": [],
   "source": [
    "import matplotlib.pyplot as plt\n",
    "%matplotlib inline \n",
    "\n",
    "from itertools import product\n",
    "\n",
    "import pandas as pd\n",
    "import numpy as np\n",
    "\n",
    "from index_option_analysis import solve_marks, spot_compute_iv, spot_greeks_from"
   ]
  },
  {
   "cell_type": "code",
   "execution_count": 2,
   "id": "7b239e99",
   "metadata": {},
   "outputs": [],
   "source": [
    "S0 = 900 # a very crude guess at the spot index price"
   ]
  },
  {
   "cell_type": "code",
   "execution_count": 3,
   "id": "5133eb3e",
   "metadata": {},
   "outputs": [
    {
     "data": {
      "text/html": [
       "<div>\n",
       "<style scoped>\n",
       "    .dataframe tbody tr th:only-of-type {\n",
       "        vertical-align: middle;\n",
       "    }\n",
       "\n",
       "    .dataframe tbody tr th {\n",
       "        vertical-align: top;\n",
       "    }\n",
       "\n",
       "    .dataframe thead th {\n",
       "        text-align: right;\n",
       "    }\n",
       "</style>\n",
       "<table border=\"1\" class=\"dataframe\">\n",
       "  <thead>\n",
       "    <tr style=\"text-align: right;\">\n",
       "      <th></th>\n",
       "      <th>dte</th>\n",
       "      <th>putCall</th>\n",
       "      <th>strikePrice</th>\n",
       "      <th>quantity</th>\n",
       "    </tr>\n",
       "  </thead>\n",
       "  <tbody>\n",
       "    <tr>\n",
       "      <th>0</th>\n",
       "      <td>141</td>\n",
       "      <td>PUT</td>\n",
       "      <td>500</td>\n",
       "      <td>20</td>\n",
       "    </tr>\n",
       "    <tr>\n",
       "      <th>1</th>\n",
       "      <td>141</td>\n",
       "      <td>PUT</td>\n",
       "      <td>1000</td>\n",
       "      <td>-20</td>\n",
       "    </tr>\n",
       "    <tr>\n",
       "      <th>2</th>\n",
       "      <td>141</td>\n",
       "      <td>CALL</td>\n",
       "      <td>500</td>\n",
       "      <td>-20</td>\n",
       "    </tr>\n",
       "    <tr>\n",
       "      <th>3</th>\n",
       "      <td>141</td>\n",
       "      <td>CALL</td>\n",
       "      <td>1000</td>\n",
       "      <td>20</td>\n",
       "    </tr>\n",
       "  </tbody>\n",
       "</table>\n",
       "</div>"
      ],
      "text/plain": [
       "   dte putCall  strikePrice  quantity\n",
       "0  141     PUT          500        20\n",
       "1  141     PUT         1000       -20\n",
       "2  141    CALL          500       -20\n",
       "3  141    CALL         1000        20"
      ]
     },
     "execution_count": 3,
     "metadata": {},
     "output_type": "execute_result"
    }
   ],
   "source": [
    "basic_folio = pd.DataFrame.from_records(\n",
    "    [(141, 'PUT', 500,  20),\n",
    "     (141, 'PUT', 1000, -20 ),\n",
    "     (141, 'CALL', 500, -20 ),\n",
    "     (141, 'CALL', 1000,  20 ),\n",
    "    ],\n",
    "    columns=['dte','putCall','strikePrice','quantity'],\n",
    ")\n",
    "\n",
    "basic_folio"
   ]
  },
  {
   "cell_type": "code",
   "execution_count": 4,
   "id": "dc6d1696",
   "metadata": {},
   "outputs": [
    {
     "data": {
      "text/html": [
       "<div>\n",
       "<style scoped>\n",
       "    .dataframe tbody tr th:only-of-type {\n",
       "        vertical-align: middle;\n",
       "    }\n",
       "\n",
       "    .dataframe tbody tr th {\n",
       "        vertical-align: top;\n",
       "    }\n",
       "\n",
       "    .dataframe thead th {\n",
       "        text-align: right;\n",
       "    }\n",
       "</style>\n",
       "<table border=\"1\" class=\"dataframe\">\n",
       "  <thead>\n",
       "    <tr style=\"text-align: right;\">\n",
       "      <th></th>\n",
       "      <th>strikePrice</th>\n",
       "      <th>dte</th>\n",
       "      <th>putCall</th>\n",
       "      <th>bid</th>\n",
       "      <th>ask</th>\n",
       "    </tr>\n",
       "  </thead>\n",
       "  <tbody>\n",
       "    <tr>\n",
       "      <th>0</th>\n",
       "      <td>40.0</td>\n",
       "      <td>22</td>\n",
       "      <td>CALL</td>\n",
       "      <td>877.80</td>\n",
       "      <td>879.24</td>\n",
       "    </tr>\n",
       "    <tr>\n",
       "      <th>1</th>\n",
       "      <td>80.0</td>\n",
       "      <td>22</td>\n",
       "      <td>CALL</td>\n",
       "      <td>837.82</td>\n",
       "      <td>839.24</td>\n",
       "    </tr>\n",
       "    <tr>\n",
       "      <th>2</th>\n",
       "      <td>120.0</td>\n",
       "      <td>22</td>\n",
       "      <td>CALL</td>\n",
       "      <td>797.82</td>\n",
       "      <td>799.24</td>\n",
       "    </tr>\n",
       "    <tr>\n",
       "      <th>3</th>\n",
       "      <td>160.0</td>\n",
       "      <td>22</td>\n",
       "      <td>CALL</td>\n",
       "      <td>757.84</td>\n",
       "      <td>759.26</td>\n",
       "    </tr>\n",
       "    <tr>\n",
       "      <th>4</th>\n",
       "      <td>200.0</td>\n",
       "      <td>22</td>\n",
       "      <td>CALL</td>\n",
       "      <td>717.86</td>\n",
       "      <td>719.26</td>\n",
       "    </tr>\n",
       "    <tr>\n",
       "      <th>...</th>\n",
       "      <td>...</td>\n",
       "      <td>...</td>\n",
       "      <td>...</td>\n",
       "      <td>...</td>\n",
       "      <td>...</td>\n",
       "    </tr>\n",
       "    <tr>\n",
       "      <th>4571</th>\n",
       "      <td>1380.0</td>\n",
       "      <td>778</td>\n",
       "      <td>PUT</td>\n",
       "      <td>457.82</td>\n",
       "      <td>462.62</td>\n",
       "    </tr>\n",
       "    <tr>\n",
       "      <th>4572</th>\n",
       "      <td>1400.0</td>\n",
       "      <td>778</td>\n",
       "      <td>PUT</td>\n",
       "      <td>477.06</td>\n",
       "      <td>481.86</td>\n",
       "    </tr>\n",
       "    <tr>\n",
       "      <th>4573</th>\n",
       "      <td>1420.0</td>\n",
       "      <td>778</td>\n",
       "      <td>PUT</td>\n",
       "      <td>496.34</td>\n",
       "      <td>501.14</td>\n",
       "    </tr>\n",
       "    <tr>\n",
       "      <th>4574</th>\n",
       "      <td>1440.0</td>\n",
       "      <td>778</td>\n",
       "      <td>PUT</td>\n",
       "      <td>515.66</td>\n",
       "      <td>520.46</td>\n",
       "    </tr>\n",
       "    <tr>\n",
       "      <th>4575</th>\n",
       "      <td>1460.0</td>\n",
       "      <td>778</td>\n",
       "      <td>PUT</td>\n",
       "      <td>535.02</td>\n",
       "      <td>539.82</td>\n",
       "    </tr>\n",
       "  </tbody>\n",
       "</table>\n",
       "<p>4576 rows × 5 columns</p>\n",
       "</div>"
      ],
      "text/plain": [
       "      strikePrice  dte putCall     bid     ask\n",
       "0            40.0   22    CALL  877.80  879.24\n",
       "1            80.0   22    CALL  837.82  839.24\n",
       "2           120.0   22    CALL  797.82  799.24\n",
       "3           160.0   22    CALL  757.84  759.26\n",
       "4           200.0   22    CALL  717.86  719.26\n",
       "...           ...  ...     ...     ...     ...\n",
       "4571       1380.0  778     PUT  457.82  462.62\n",
       "4572       1400.0  778     PUT  477.06  481.86\n",
       "4573       1420.0  778     PUT  496.34  501.14\n",
       "4574       1440.0  778     PUT  515.66  520.46\n",
       "4575       1460.0  778     PUT  535.02  539.82\n",
       "\n",
       "[4576 rows x 5 columns]"
      ]
     },
     "execution_count": 4,
     "metadata": {},
     "output_type": "execute_result"
    }
   ],
   "source": [
    "# load option prices as of the snapshot time\n",
    "option_data = pd.read_csv('../data/generic_at_330pm.csv')\n",
    "option_data"
   ]
  },
  {
   "cell_type": "code",
   "execution_count": 5,
   "id": "ddf4b1d9",
   "metadata": {},
   "outputs": [
    {
     "name": "stdout",
     "output_type": "stream",
     "text": [
      "Available dtes: \n",
      "[22, 50, 85, 113, 141, 168, 204, 232, 260, 295, 323, 358, 386, 414, 449, 596, 778]\n"
     ]
    }
   ],
   "source": [
    "dtes = sorted(option_data.dte.unique())\n",
    "\n",
    "print('Available dtes: ')\n",
    "print(dtes)"
   ]
  },
  {
   "cell_type": "code",
   "execution_count": 6,
   "id": "42b8a7a4",
   "metadata": {},
   "outputs": [],
   "source": [
    "# add some useful fields to the option data\n",
    "chains = option_data.copy()\n",
    "chains['is_call'] = (chains.putCall == 'CALL')\n",
    "chains['tau'] = chains['dte'] / 365.\n",
    "chains['mid'] = 0.5 * (chains['bid'] + chains['ask'])\n",
    "chains['spread'] = (chains['ask'] - chains['bid'])"
   ]
  },
  {
   "cell_type": "code",
   "execution_count": 7,
   "id": "6604b4ed",
   "metadata": {},
   "outputs": [],
   "source": [
    "df = chains.copy()\n",
    "\n",
    "marks_by_dte = {}\n",
    "for dte in dtes:\n",
    "    chain = df[df.dte==dte].pivot('strikePrice','putCall').sort_index().dropna(how='any')\n",
    "    marks_by_dte[dte] = solve_marks(chain, S0=S0, dte=dte, obj_weight=0.)\n",
    "\n",
    "rates = pd.DataFrame.from_records([\n",
    "    (dte, dte/365., data['r'], data['F'])\n",
    "    for dte,data in marks_by_dte.items()\n",
    "], columns=['dte','tau','int_rate', 'fwd']).set_index('dte')\n",
    "rates['spot'] = rates.fwd.iloc[0] # use front month fwd as proxy for spot\n",
    "rates['div_yld'] = [np.log(rates.loc[dte].spot/data['F'])/(rates.loc[dte].tau) + data['r'] \n",
    "                        for dte,data in marks_by_dte.items()]"
   ]
  },
  {
   "cell_type": "code",
   "execution_count": 8,
   "id": "86f58fc9",
   "metadata": {},
   "outputs": [
    {
     "data": {
      "image/png": "[encoded data removed]",
      "text/plain": [
       "<Figure size 432x288 with 1 Axes>"
      ]
     },
     "metadata": {
      "needs_background": "light"
     },
     "output_type": "display_data"
    }
   ],
   "source": [
    "(100*rates[['int_rate','div_yld']]).plot(title='Chain-implied dividend yield and interest rates (pct)');"
   ]
  },
  {
   "cell_type": "code",
   "execution_count": 9,
   "id": "0a2a0a5a",
   "metadata": {},
   "outputs": [],
   "source": [
    "marks_list = []\n",
    "for dte,data in marks_by_dte.items():\n",
    "    marks = data['marks'][['mark_call','mark_put']].copy()\n",
    "    marks.columns = ['CALL','PUT']\n",
    "    marks.columns.name = 'putCall'\n",
    "    marks = marks.stack().to_frame('mark')\n",
    "    marks['dte'] = dte\n",
    "    marks_list.append(marks.reset_index())\n",
    "clean_marks = pd.merge(\n",
    "    pd.concat(marks_list, axis=0, ignore_index=True),\n",
    "    rates[['tau', 'int_rate', 'div_yld', 'spot']],\n",
    "    on='dte')\n",
    "clean_marks['is_call'] = (clean_marks.putCall=='CALL')\n",
    "\n",
    "clean_marks['imp_vol'] = spot_compute_iv(\n",
    "    tgt=clean_marks.mark,\n",
    "    spot=clean_marks.spot,\n",
    "    strike=clean_marks.strikePrice,\n",
    "    tau=clean_marks.tau,\n",
    "    is_call=clean_marks.is_call,\n",
    "    int_rate=clean_marks.int_rate,\n",
    "    div_yld=clean_marks.div_yld,\n",
    ")\n",
    "\n",
    "chains_with_rates = clean_marks"
   ]
  },
  {
   "cell_type": "code",
   "execution_count": 10,
   "id": "ee2e5a99",
   "metadata": {},
   "outputs": [],
   "source": [
    "folio_cols = ['price','delta','theta','gamma','vega','wt_vega']\n",
    "\n",
    "folio = pd.merge(chains_with_rates, basic_folio, on=['dte','putCall','strikePrice'])\n",
    "\n",
    "# compute implied vol for each option\n",
    "folio['imp_vol'] = spot_compute_iv(\n",
    "    tgt=folio.mark,\n",
    "    spot=folio.spot,\n",
    "    strike=folio.strikePrice,\n",
    "    tau=folio.tau,\n",
    "    is_call=folio.is_call,\n",
    "    int_rate=folio.int_rate,\n",
    "    div_yld=folio.div_yld,\n",
    ")\n",
    "\n",
    "# compute greeks for each option\n",
    "greeks = spot_greeks_from(\n",
    "    spot=folio.spot,\n",
    "    strike=folio.strikePrice,\n",
    "    tau=folio.tau,\n",
    "    sigma=folio.imp_vol,\n",
    "    is_call=folio.is_call,\n",
    "    int_rate=folio.int_rate,\n",
    "    div_yld=folio.div_yld,\n",
    ")\n",
    "\n",
    "for c in folio_cols:\n",
    "    folio[c] = greeks[c]\n",
    "\n",
    "# adjust for the 100 multiplier\n",
    "# note that vega needs no adjustment\n",
    "folio['value'] = 100*folio['price'] # value per contract\n",
    "folio['theta'] *= 100/365.          # per contract\n",
    "folio['delta'] *= 100               # per contract"
   ]
  },
  {
   "cell_type": "code",
   "execution_count": 15,
   "id": "8d40ae4f",
   "metadata": {},
   "outputs": [
    {
     "name": "stdout",
     "output_type": "stream",
     "text": [
      "Portfolio greeks:\n",
      "\n",
      "price       -9980.61\n",
      "delta          -0.00\n",
      "theta           0.00\n",
      "gamma          -0.00\n",
      "vega           -0.00\n",
      "wt_vega        -0.00\n",
      "value     -998060.61\n",
      "dtype: float64\n",
      "\n",
      "Basic Version had these values:\n",
      "\n",
      "price       -9996.76\n",
      "delta         305.89\n",
      "theta          33.94\n",
      "gamma           0.06\n",
      "vega         1812.42\n",
      "wt_vega       841.79\n",
      "value     -999676.50\n",
      "\n",
      "\n"
     ]
    }
   ],
   "source": [
    "# Compute portfolio value and greeks\n",
    "folio_greeks = folio[folio_cols+['value']].mul(folio.quantity, axis=0).sum()\n",
    "print('Portfolio greeks:\\n')\n",
    "print(folio_greeks.round(2))\n",
    "\n",
    "print(\"\"\"\n",
    "Basic Version had these values:\n",
    "\n",
    "price       -9996.76\n",
    "delta         305.89\n",
    "theta          33.94\n",
    "gamma           0.06\n",
    "vega         1812.42\n",
    "wt_vega       841.79\n",
    "value     -999676.50\n",
    "\n",
    "\"\"\") "
   ]
  },
  {
   "cell_type": "code",
   "execution_count": 12,
   "id": "33690b7a",
   "metadata": {},
   "outputs": [
    {
     "data": {
      "image/png": "[encoded data removed]",
      "text/plain": [
       "<Figure size 720x504 with 1 Axes>"
      ]
     },
     "metadata": {
      "needs_background": "light"
     },
     "output_type": "display_data"
    }
   ],
   "source": [
    "future_dtes = [0, 28, 56, 84, 112, 140]\n",
    "spots = list(range(600,1000,5))\n",
    "risk_graph = []\n",
    "for fut_dte in future_dtes:\n",
    "    for spot in spots:\n",
    "        greeks = spot_greeks_from(\n",
    "            spot=spot,\n",
    "            strike=folio.strikePrice,\n",
    "            tau=folio.tau - fut_dte/365.,\n",
    "            is_call=folio.is_call,\n",
    "            sigma=folio.imp_vol,\n",
    "            int_rate=folio.int_rate, # note: int_rate and div_yld are also \"sticky\"\n",
    "            div_yld=folio.div_yld,   # and do not roll down the term structure.\n",
    "        ) \n",
    "        risk_graph.append((fut_dte, spot, 100*(greeks['price']*folio['quantity']).sum()))\n",
    "\n",
    "rg = pd.DataFrame.from_records(risk_graph, columns=['dte','spot','value'])\n",
    "rg['PnL'] = rg.value - folio_greeks.value\n",
    "\n",
    "spot = folio.spot.iloc[0]\n",
    "rgs = rg.pivot('spot','dte','PnL')\n",
    "rgs.index.name = 'scenario_dte'\n",
    "rgs.columns.name = 'scenario_spot'\n",
    "rgs.columns.name = 'DaysInTrade'\n",
    "(rgs/1000).plot(figsize=(10,7), xlim=[spot * 0.75, spot*1.1], \n",
    "         title='Risk graph for portfolio: in thousands of USD');\n",
    "plt.axhline(y=0., color='k', linestyle='--')\n",
    "for pct in [0.85, 0.9, 0.95, 1., 1.05, 1.1]:\n",
    "    color = 'b' if pct==1 else 'k'\n",
    "    plt.axvline(x=spot*pct, color=color, linestyle=':')"
   ]
  },
  {
   "cell_type": "code",
   "execution_count": null,
   "id": "5b6b2bc1",
   "metadata": {},
   "outputs": [],
   "source": []
  },
  {
   "cell_type": "code",
   "execution_count": null,
   "id": "e83d1ce3",
   "metadata": {},
   "outputs": [],
   "source": []
  }
 ],
 "metadata": {
  "kernelspec": {
   "display_name": "Python 3 (ipykernel)",
   "language": "python",
   "name": "python3"
  },
  "language_info": {
   "codemirror_mode": {
    "name": "ipython",
    "version": 3
   },
   "file_extension": ".py",
   "mimetype": "text/x-python",
   "name": "python",
   "nbconvert_exporter": "python",
   "pygments_lexer": "ipython3",
   "version": "3.8.12"
  }
 },
 "nbformat": 4,
 "nbformat_minor": 5
}
